{
 "cells": [
  {
   "cell_type": "markdown",
   "source": [
    "Vu Minh An\n",
    "11210261\n",
    "Homework Assignment Week 4"
   ],
   "metadata": {
    "collapsed": false,
    "pycharm": {
     "name": "#%% md\n"
    }
   }
  },
  {
   "cell_type": "markdown",
   "source": [
    "Problem 1: Constructing A Dynamic Array"
   ],
   "metadata": {
    "collapsed": false,
    "pycharm": {
     "name": "#%% md\n"
    }
   }
  },
  {
   "cell_type": "code",
   "execution_count": 110,
   "metadata": {
    "collapsed": true,
    "pycharm": {
     "name": "#%%\n"
    }
   },
   "outputs": [],
   "source": [
    "class LeaderBoard:\n",
    "    \"\"\"Fixed length sequence of high scores in descending order\"\"\"\n",
    "\n",
    "    def __init__(self, capacity):\n",
    "        \"\"\"Initialize leader board with given maximum capacity\n",
    "        All entries are initially None\n",
    "        Capacity must be a positive integer\"\"\"\n",
    "        self.capacity = capacity\n",
    "        self.scores = [None] * capacity\n",
    "\n",
    "    def __len__(self):\n",
    "        \"\"\"Return the number of non None elements in the board\"\"\"\n",
    "        return sum(score is not None for score in self.scores)\n",
    "\n",
    "    def get_player(self, player):\n",
    "        \"\"\"Find a player in leader board using his name\n",
    "        Print not found if that player isn't in the board\"\"\"\n",
    "        for i, score in enumerate(self.scores):\n",
    "            if score is not None and score[0] == player:\n",
    "                print(f\"{player} found at rank {i + 1}\")\n",
    "                return\n",
    "        print(f\"{player} not found in the leader board\")\n",
    "\n",
    "    def __str__(self):\n",
    "        \"\"\"Return string representation of the LeaderBoard\"\"\"\n",
    "        score_strings = []\n",
    "        for i, score in enumerate(self.scores):\n",
    "            if score is not None:\n",
    "                score_strings.append(f\"{i + 1}. {score[0]}: {score[1]}\")\n",
    "        return \"\\n\".join(score_strings)\n",
    "\n",
    "    def __delitem__(self, k):\n",
    "        \"\"\"Delete score of rank k\n",
    "        k must be a positive integer and smaller than LEN of current\n",
    "        leader board\"\"\"\n",
    "        if k < 1 or k > len(self):\n",
    "            raise IndexError(\"Index out of range\")\n",
    "        if self.scores[k - 1] is None:\n",
    "            raise IndexError(\"Index out of range\")\n",
    "        for i in range(k - 1, self.capacity - 1):\n",
    "            self.scores[i] = self.scores[i + 1]\n",
    "        self.scores[-1] = None\n",
    "\n",
    "    def add(self, new_entry):\n",
    "        \"\"\"Consider adding new entry to high scores\n",
    "        new_entry: a tuple including score and player information\"\"\"\n",
    "        player,score = new_entry\n",
    "        if len(self) == 0:\n",
    "            self.scores[0] = new_entry\n",
    "        elif len(self) < self.capacity or score > self.scores[-1][1]:\n",
    "            i = len(self) - 1\n",
    "            while i >= 0 and (self.scores[i] is None or score > self.scores[i][1]):\n",
    "                i -= 1\n",
    "            i += 1\n",
    "            for j in range(min(len(self) - 1, self.capacity - 2), i - 1, -1):\n",
    "                self.scores[j + 1] = self.scores[j]\n",
    "            self.scores[i] = (player, score)\n",
    "            if len(self) > self.capacity:\n",
    "                del self[self.capacity]"
   ]
  },
  {
   "cell_type": "code",
   "execution_count": 111,
   "outputs": [
    {
     "name": "stdout",
     "output_type": "stream",
     "text": [
      "1. Snaky: 30\n",
      "2. Doggo: 28\n",
      "3. Catto: 25\n",
      "4. Racoon: 23\n",
      "5. Larma: 21\n",
      "6. Panda: 20\n",
      "7. Bunny: 19\n",
      "------------------------------\n",
      "1. Snaky: 30\n",
      "2. Doggo: 28\n",
      "3. Owl: 26\n",
      "4. Catto: 25\n",
      "5. Racoon: 23\n",
      "6. Larma: 21\n",
      "7. Panda: 20\n",
      "------------------------------\n",
      "1. Snaky: 30\n",
      "2. Doggo: 28\n",
      "3. Owl: 26\n",
      "4. Catto: 25\n",
      "5. Racoon: 23\n",
      "6. Larma: 21\n",
      "7. Panda: 20\n",
      "------------------------------\n",
      "1. Snaky: 30\n",
      "2. Doggo: 28\n",
      "3. Owl: 26\n",
      "4. Catto: 25\n",
      "5. Racoon: 23\n",
      "6. Panda: 20\n",
      "7. Piggy: 20\n"
     ]
    }
   ],
   "source": [
    "scores = [('Catto', 25), ('Doggo', 28), ('Bunny', 19), ('Panda', 20), ('Snaky', 30), ('Racoon', 23), ('Larma', 21)]\n",
    "leader_board = LeaderBoard(7)\n",
    "for score in scores:\n",
    "    leader_board.add(score)\n",
    "print(leader_board)\n",
    "# Adding Owl with score 26 to the leader board.\n",
    "print(\"------------------------------\")\n",
    "leader_board.add(('Owl',26))\n",
    "print(leader_board)\n",
    "print(\"------------------------------\")\n",
    "# Adding Piggy with score 20 to the leader board.\n",
    "leader_board.add(('Piggy',20))\n",
    "print(leader_board)\n",
    "print(\"------------------------------\")\n",
    "# Racoon was found cheated. Find and remove him from the leader board. Then Piggy is given the slot.\n",
    "del leader_board[6]\n",
    "leader_board.add(('Piggy',20))\n",
    "# Print out the leader board using the implemented string representation method\n",
    "print(leader_board)\n"
   ],
   "metadata": {
    "collapsed": false,
    "pycharm": {
     "name": "#%%\n"
    }
   }
  },
  {
   "cell_type": "code",
   "execution_count": 112,
   "outputs": [
    {
     "name": "stdout",
     "output_type": "stream",
     "text": [
      "7\n",
      "1. Snaky: 30\n",
      "2. Doggo: 28\n",
      "3. Owl: 26\n",
      "4. Catto: 25\n",
      "5. Racoon: 23\n",
      "6. Panda: 20\n",
      "7. Piggy: 20\n",
      "Panda found at rank 6\n"
     ]
    }
   ],
   "source": [
    "print(leader_board.__len__())\n",
    "print(leader_board.__str__())\n",
    "leader_board.get_player(\"Panda\")"
   ],
   "metadata": {
    "collapsed": false,
    "pycharm": {
     "name": "#%%\n"
    }
   }
  },
  {
   "cell_type": "markdown",
   "source": [
    "Problem 2: Insertion Sort Algorithm"
   ],
   "metadata": {
    "collapsed": false,
    "pycharm": {
     "name": "#%% md\n"
    }
   }
  },
  {
   "cell_type": "code",
   "execution_count": 113,
   "outputs": [],
   "source": [
    "def insertion_sort(arr):\n",
    "    for i in range(1, len(arr)):\n",
    "        key = arr[i]\n",
    "        j = i - 1\n",
    "        while j >= 0 and key < arr[j]:\n",
    "            arr[j+1] = arr[j]\n",
    "            j -= 1\n",
    "        arr[j+1] = key\n",
    "    return arr"
   ],
   "metadata": {
    "collapsed": false,
    "pycharm": {
     "name": "#%%\n"
    }
   }
  },
  {
   "cell_type": "code",
   "execution_count": 114,
   "outputs": [
    {
     "name": "stdout",
     "output_type": "stream",
     "text": [
      "[-1, 0, 2, 4, 5, 6, 8, 9, 10]\n"
     ]
    }
   ],
   "source": [
    "+\n"
   ],
   "metadata": {
    "collapsed": false,
    "pycharm": {
     "name": "#%%\n"
    }
   }
  },
  {
   "cell_type": "code",
   "execution_count": 115,
   "outputs": [
    {
     "name": "stdout",
     "output_type": "stream",
     "text": [
      "['a', 'b', 'c', 'e', 'f', 'g', 'u', 'w', 'x']\n"
     ]
    }
   ],
   "source": [
    "arr2 = ['f', 'a', 'c', 'g', 'u', 'b', 'w', 'x', 'e']\n",
    "sorted_arr2 = insertion_sort(arr2)\n",
    "print(sorted_arr2)\n"
   ],
   "metadata": {
    "collapsed": false,
    "pycharm": {
     "name": "#%%\n"
    }
   }
  },
  {
   "cell_type": "markdown",
   "source": [
    "Problem 3: Dynamic Programming"
   ],
   "metadata": {
    "collapsed": false,
    "pycharm": {
     "name": "#%% md\n"
    }
   }
  },
  {
   "cell_type": "code",
   "execution_count": 116,
   "outputs": [],
   "source": [
    "class DynamicArray:\n",
    "    def __init__(self):\n",
    "        self.array = []\n",
    "\n",
    "    def fibonacci(self, n):\n",
    "        if n == 0:\n",
    "            return 0\n",
    "        if n == 1:\n",
    "            return 1\n",
    "        self.array = [0] * (n+1)\n",
    "        self.array[0] = 0\n",
    "        self.array[1] = 1\n",
    "        for i in range(2, n+1):\n",
    "            self.array[i] = self.array[i-1] + self.array[i-2]\n",
    "        return self.array[n]\n",
    "\n"
   ],
   "metadata": {
    "collapsed": false,
    "pycharm": {
     "name": "#%%\n"
    }
   }
  },
  {
   "cell_type": "code",
   "execution_count": 117,
   "outputs": [
    {
     "name": "stdout",
     "output_type": "stream",
     "text": [
      "12586269025\n",
      "190392490709135\n",
      "354224848179261915075\n"
     ]
    }
   ],
   "source": [
    "arr = DynamicArray()\n",
    "print(arr.fibonacci(50))  # 12586269025\n",
    "print(arr.fibonacci(70))  # 190392490709135\n",
    "print(arr.fibonacci(100)) # 354224848179261915075\n"
   ],
   "metadata": {
    "collapsed": false,
    "pycharm": {
     "name": "#%%\n"
    }
   }
  },
  {
   "cell_type": "markdown",
   "source": [
    "The time complexity of the given function is O(n), where n is the input parameter.\n",
    "\n",
    "The function first checks if the input parameter is 0 or 1 and returns the appropriate value. If the input is greater than 1, it initializes an array of size n+1, and then fills the array with the Fibonacci sequence from the bottom up, using a loop that iterates n-1 times. The time complexity of this loop is O(n).\n",
    "\n",
    "Since the function only has one loop that iterates n-1 times, the overall time complexity of the function is O(n)."
   ],
   "metadata": {
    "collapsed": false,
    "pycharm": {
     "name": "#%% md\n"
    }
   }
  },
  {
   "cell_type": "markdown",
   "source": [
    "Problem 4: Best Time To Buy And Sell Stock"
   ],
   "metadata": {
    "collapsed": false,
    "pycharm": {
     "name": "#%% md\n"
    }
   }
  },
  {
   "cell_type": "code",
   "execution_count": 118,
   "outputs": [],
   "source": [
    "def best_profit(prices):\n",
    "    if not prices:\n",
    "        return 0\n",
    "\n",
    "    min_price = float('inf')\n",
    "    max_profit = 0\n",
    "\n",
    "    for price in prices:\n",
    "        if price < min_price:\n",
    "            min_price = price\n",
    "        else:\n",
    "            max_profit = max(max_profit, price - min_price)\n",
    "\n",
    "    return max_profit\n"
   ],
   "metadata": {
    "collapsed": false,
    "pycharm": {
     "name": "#%%\n"
    }
   }
  },
  {
   "cell_type": "code",
   "execution_count": 119,
   "outputs": [
    {
     "name": "stdout",
     "output_type": "stream",
     "text": [
      "5\n",
      "0\n"
     ]
    }
   ],
   "source": [
    "price = [7, 1, 5, 3, 6, 4]\n",
    "print(best_profit(price))\n",
    "price = [7, 6, 4, 3, 1]\n",
    "print(best_profit(price))\n"
   ],
   "metadata": {
    "collapsed": false,
    "pycharm": {
     "name": "#%%\n"
    }
   }
  },
  {
   "cell_type": "markdown",
   "source": [
    "Problem 5: Caesar Cipher"
   ],
   "metadata": {
    "collapsed": false,
    "pycharm": {
     "name": "#%% md\n"
    }
   }
  },
  {
   "cell_type": "code",
   "execution_count": 120,
   "outputs": [],
   "source": [
    "class CaesarCipher:\n",
    "    def __init__(self, shift):\n",
    "        self.shift = shift % 26\n",
    "\n",
    "    def encode(self, text):\n",
    "        result = []\n",
    "        for char in text:\n",
    "            if char.isalpha():\n",
    "                if char.islower():\n",
    "                    result.append(chr((ord(char) - 97 + self.shift) % 26 + 97))\n",
    "                else:\n",
    "                    result.append(chr((ord(char) - 65 + self.shift) % 26 + 65))\n",
    "            else:\n",
    "                result.append(char)\n",
    "        return ''.join(result)\n",
    "\n",
    "    def decode(self, text):\n",
    "        result = []\n",
    "        for char in text:\n",
    "            if char.isalpha():\n",
    "                if char.islower():\n",
    "                    result.append(chr((ord(char) - 97 - self.shift) % 26 + 97))\n",
    "                else:\n",
    "                    result.append(chr((ord(char) - 65 - self.shift) % 26 + 65))\n",
    "            else:\n",
    "                result.append(char)\n",
    "        return ''.join(result)\n"
   ],
   "metadata": {
    "collapsed": false,
    "pycharm": {
     "name": "#%%\n"
    }
   }
  },
  {
   "cell_type": "code",
   "execution_count": 121,
   "outputs": [
    {
     "name": "stdout",
     "output_type": "stream",
     "text": [
      "Lipps Hexe Wgmirgi \n",
      "Pigxyvi 4 Evvec \n"
     ]
    }
   ],
   "source": [
    "# create a cipher with shift=4\n",
    "cipher = CaesarCipher(4)\n",
    "# perform encryption\n",
    "str_arr = ['Hello Data Science ', 'Lecture 4 Array ']\n",
    "for item in str_arr:\n",
    "    ciphertext = cipher.encode(item)\n",
    "    print(ciphertext)\n"
   ],
   "metadata": {
    "collapsed": false,
    "pycharm": {
     "name": "#%%\n"
    }
   }
  },
  {
   "cell_type": "code",
   "execution_count": 122,
   "outputs": [
    {
     "name": "stdout",
     "output_type": "stream",
     "text": [
      "Caesar Cipher a simple method\n",
      "Congratulation , you finally finished this homework\n"
     ]
    }
   ],
   "source": [
    "caesar = CaesarCipher(7)\n",
    "ciphertext_arr = [\"Jhlzhy Jpwoly h zptwsl tlaovk\",\"Jvunyhabshapvu , fvb mpuhssf mpupzolk aopz ovtldvyr\"]\n",
    "for item in ciphertext_arr:\n",
    "    ciphertext = caesar.decode(item)\n",
    "    print(ciphertext)"
   ],
   "metadata": {
    "collapsed": false,
    "pycharm": {
     "name": "#%%\n"
    }
   }
  },
  {
   "cell_type": "code",
   "execution_count": 2,
   "outputs": [],
   "source": [
    "def best_profit(prices):\n",
    "    min_price = float('inf')\n",
    "    max_profit = 0\n",
    "    for price in prices:\n",
    "        if price < min_price:\n",
    "            min_price = price\n",
    "        elif price - min_price > max_profit:\n",
    "            max_profit = price - min_price\n",
    "    return max_profit\n"
   ],
   "metadata": {
    "collapsed": false,
    "pycharm": {
     "name": "#%%\n"
    }
   }
  },
  {
   "cell_type": "code",
   "execution_count": 4,
   "outputs": [],
   "source": [
    "def best_profit(prices):\n",
    "    i = 0\n",
    "    n = len(prices)\n",
    "    valley = prices[0]\n",
    "    peak = prices[0]\n",
    "    max_profit = 0\n",
    "    while i < n - 1:\n",
    "        while i < n - 1 and prices[i] >= prices[i + 1]:\n",
    "            i += 1\n",
    "        valley = prices[i]\n",
    "        while i < n - 1 and prices[i] <= prices[i + 1]:\n",
    "            i += 1\n",
    "        peak = prices[i]\n",
    "        max_profit += peak - valley\n",
    "    return max_profit"
   ],
   "metadata": {
    "collapsed": false,
    "pycharm": {
     "name": "#%%\n"
    }
   }
  },
  {
   "cell_type": "code",
   "execution_count": 3,
   "outputs": [
    {
     "name": "stdout",
     "output_type": "stream",
     "text": [
      "5\n",
      "0\n"
     ]
    }
   ],
   "source": [
    "price = [7, 1, 5, 3, 6, 4]\n",
    "print(best_profit(price))\n",
    "price = [7, 6, 4, 3, 1]\n",
    "print(best_profit(price))"
   ],
   "metadata": {
    "collapsed": false,
    "pycharm": {
     "name": "#%%\n"
    }
   }
  }
 ],
 "metadata": {
  "kernelspec": {
   "display_name": "Python 3",
   "language": "python",
   "name": "python3"
  },
  "language_info": {
   "codemirror_mode": {
    "name": "ipython",
    "version": 2
   },
   "file_extension": ".py",
   "mimetype": "text/x-python",
   "name": "python",
   "nbconvert_exporter": "python",
   "pygments_lexer": "ipython2",
   "version": "2.7.6"
  }
 },
 "nbformat": 4,
 "nbformat_minor": 0
}