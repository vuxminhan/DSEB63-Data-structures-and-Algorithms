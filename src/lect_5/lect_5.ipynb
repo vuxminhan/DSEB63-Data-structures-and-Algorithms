{
 "cells": [
  {
   "cell_type": "markdown",
   "source": [
    "STACK"
   ],
   "metadata": {
    "collapsed": false,
    "pycharm": {
     "name": "#%% md\n"
    }
   }
  },
  {
   "cell_type": "markdown",
   "source": [
    "Principle: LIFO\n",
    "Can ony access the most recently inserted object"
   ],
   "metadata": {
    "collapsed": false,
    "pycharm": {
     "name": "#%% md\n"
    }
   }
  },
  {
   "cell_type": "markdown",
   "source": [
    "Implement Stack using an array"
   ],
   "metadata": {
    "collapsed": false,
    "pycharm": {
     "name": "#%% md\n"
    }
   }
  },
  {
   "cell_type": "code",
   "execution_count": 10,
   "outputs": [],
   "source": [
    "class ArrayStack:\n",
    "    def __init__(self):\n",
    "        self.arr = []\n",
    "    def __len__(self):\n",
    "        return (len(self.arr))\n",
    "    def __str__(self):\n",
    "        return str(self.arr)\n",
    "    def isempty(self):\n",
    "        return len(self.arr)==0\n",
    "    def push(self, num):\n",
    "        self.arr.append(num)\n",
    "    def pop(self):\n",
    "        if self.isempty():\n",
    "            raise Exception(\"Empty stack\")\n",
    "        else:\n",
    "            return self.arr.pop()\n",
    "    def top(self):\n",
    "        return(self.arr[-1])\n",
    "\n"
   ],
   "metadata": {
    "collapsed": false,
    "pycharm": {
     "name": "#%%\n"
    }
   }
  },
  {
   "cell_type": "code",
   "execution_count": 13,
   "outputs": [
    {
     "name": "stdout",
     "output_type": "stream",
     "text": [
      "[1, 2, 3, 4, 5, 6, 7]\n",
      "[1, 2, 3, 4, 5, 6]\n"
     ]
    }
   ],
   "source": [
    "arr = [1,2,3,4,5,6,7]\n",
    "stack = ArrayStack()\n",
    "for i in arr:\n",
    "    stack.push(i)\n",
    "print(stack.__str__())\n",
    "stack.pop()\n",
    "print(stack.__str__())"
   ],
   "metadata": {
    "collapsed": false,
    "pycharm": {
     "name": "#%%\n"
    }
   }
  },
  {
   "cell_type": "markdown",
   "source": [],
   "metadata": {
    "collapsed": false,
    "pycharm": {
     "name": "#%% md\n"
    }
   }
  },
  {
   "cell_type": "code",
   "execution_count": null,
   "outputs": [],
   "source": [],
   "metadata": {
    "collapsed": false,
    "pycharm": {
     "name": "#%%\n"
    }
   }
  }
 ],
 "metadata": {
  "kernelspec": {
   "display_name": "Python 3",
   "language": "python",
   "name": "python3"
  },
  "language_info": {
   "codemirror_mode": {
    "name": "ipython",
    "version": 2
   },
   "file_extension": ".py",
   "mimetype": "text/x-python",
   "name": "python",
   "nbconvert_exporter": "python",
   "pygments_lexer": "ipython2",
   "version": "2.7.6"
  }
 },
 "nbformat": 4,
 "nbformat_minor": 0
}