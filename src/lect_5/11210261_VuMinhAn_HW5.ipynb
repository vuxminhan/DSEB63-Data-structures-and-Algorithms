{
 "cells": [
  {
   "cell_type": "markdown",
   "source": [],
   "metadata": {
    "collapsed": false,
    "pycharm": {
     "name": "#%% md\n"
    }
   }
  },
  {
   "cell_type": "markdown",
   "source": [
    "Vu Minh An\n",
    "11210261\n",
    "Homework Assignment Week 5"
   ],
   "metadata": {
    "collapsed": false,
    "pycharm": {
     "name": "#%% md\n"
    }
   }
  },
  {
   "cell_type": "markdown",
   "source": [
    "Problem 1: Constructing A Stack"
   ],
   "metadata": {
    "collapsed": false,
    "pycharm": {
     "name": "#%% md\n"
    }
   }
  },
  {
   "cell_type": "code",
   "execution_count": 13,
   "metadata": {
    "collapsed": true,
    "pycharm": {
     "name": "#%%\n"
    }
   },
   "outputs": [],
   "source": [
    "class Stack:\n",
    "    def __init__(self):\n",
    "        self.arr = []\n",
    "\n",
    "    def __len__(self):\n",
    "        return len(self.arr)\n",
    "    def is_empty(self):\n",
    "        return len(self.arr)==0\n",
    "    def __str__(self):\n",
    "        return str(self.arr)\n",
    "    def push(self,num):\n",
    "        self.arr.append(num)\n",
    "    def top(self):\n",
    "        if self.is_empty():\n",
    "            return \"Stack is empty\"\n",
    "        return self.arr[-1]\n",
    "    def pop(self):\n",
    "        if self.is_empty():\n",
    "            return \"Stack is empty\"\n",
    "        return self.arr.pop()"
   ]
  },
  {
   "cell_type": "code",
   "execution_count": 14,
   "outputs": [
    {
     "name": "stdout",
     "output_type": "stream",
     "text": [
      "[4, 0, 1, 5, 9, 8, 2]\n"
     ]
    }
   ],
   "source": [
    "st = Stack()\n",
    "arr = [4, 0, 1, 5, 9, 8, 2]\n",
    "for item in arr:\n",
    "    st.push(item)\n",
    "print(st.__str__())"
   ],
   "metadata": {
    "collapsed": false,
    "pycharm": {
     "name": "#%%\n"
    }
   }
  },
  {
   "cell_type": "code",
   "execution_count": 15,
   "outputs": [],
   "source": [
    "def copy_reverse(inp_stack: Stack):\n",
    "    st = Stack()\n",
    "    while not inp_stack.is_empty():\n",
    "        st.push(inp_stack.pop())\n",
    "    return st\n",
    "\n",
    "def copy_st(inp_stack: Stack):\n",
    "    st = copy_reverse(inp_stack)\n",
    "    while not st.is_empty():\n",
    "        inp_stack.push(st.pop())\n",
    "    return inp_stack"
   ],
   "metadata": {
    "collapsed": false,
    "pycharm": {
     "name": "#%%\n"
    }
   }
  },
  {
   "cell_type": "code",
   "execution_count": 16,
   "outputs": [
    {
     "name": "stdout",
     "output_type": "stream",
     "text": [
      "[4, 0, 1, 5, 9, 8, 2]\n"
     ]
    }
   ],
   "source": [
    "st1 = copy_st(st)\n",
    "print(st1.__str__())"
   ],
   "metadata": {
    "collapsed": false,
    "pycharm": {
     "name": "#%%\n"
    }
   }
  },
  {
   "cell_type": "code",
   "execution_count": 17,
   "outputs": [],
   "source": [
    "def sort_stack(inp_st : Stack):\n",
    "    tmp_st = Stack()\n",
    "    while not inp_st.is_empty():\n",
    "        tmp = inp_st.pop()\n",
    "        while not tmp_st.is_empty() and tmp_st.top() > tmp:\n",
    "            inp_st.push(tmp_st.pop())\n",
    "        tmp_st.push(tmp)\n",
    "    return tmp_st"
   ],
   "metadata": {
    "collapsed": false,
    "pycharm": {
     "name": "#%%\n"
    }
   }
  },
  {
   "cell_type": "code",
   "execution_count": 18,
   "outputs": [
    {
     "name": "stdout",
     "output_type": "stream",
     "text": [
      "[0, 1, 2, 4, 5, 8, 9]\n"
     ]
    }
   ],
   "source": [
    "print(sort_stack(st1).__str__())"
   ],
   "metadata": {
    "collapsed": false,
    "pycharm": {
     "name": "#%%\n"
    }
   }
  },
  {
   "cell_type": "markdown",
   "source": [
    "Problem 2: Converting numeral system"
   ],
   "metadata": {
    "collapsed": false,
    "pycharm": {
     "name": "#%% md\n"
    }
   }
  },
  {
   "cell_type": "code",
   "execution_count": 19,
   "outputs": [
    {
     "name": "stdout",
     "output_type": "stream",
     "text": [
      "0\n",
      "101\n",
      "1010\n",
      "1101\n",
      "1111\n"
     ]
    }
   ],
   "source": [
    "def dec_to_bin(num: int):\n",
    "    st_dec_bin = Stack()\n",
    "    str_num = \"\"\n",
    "    if num == 0:\n",
    "        return 0\n",
    "    while int(num) != 0:\n",
    "        remain = num % 2\n",
    "        num = int(num / 2)\n",
    "        st_dec_bin.push(remain)\n",
    "\n",
    "    for i in range(st_dec_bin.__len__()):\n",
    "        str_num += str(st_dec_bin.pop())\n",
    "    return int(str_num)\n",
    "\n",
    "\n",
    "print(dec_to_bin(0))\n",
    "print(dec_to_bin(5))\n",
    "print(dec_to_bin(10))\n",
    "print(dec_to_bin(13))\n",
    "print(dec_to_bin(15))"
   ],
   "metadata": {
    "collapsed": false,
    "pycharm": {
     "name": "#%%\n"
    }
   }
  },
  {
   "cell_type": "code",
   "execution_count": 20,
   "outputs": [
    {
     "name": "stdout",
     "output_type": "stream",
     "text": [
      "563\n"
     ]
    }
   ],
   "source": [
    "def ter_to_dec(ternary):\n",
    "    s = 0\n",
    "    ter_st = Stack()\n",
    "    for i,j in enumerate(reversed(str(ternary))):\n",
    "        ter_st.push(int(j)*int(str(3**i)))\n",
    "    while not ter_st.is_empty():\n",
    "        s+=ter_st.pop()\n",
    "    return s\n",
    "print(ter_to_dec(202212).__str__())"
   ],
   "metadata": {
    "collapsed": false,
    "pycharm": {
     "name": "#%%\n"
    }
   }
  },
  {
   "cell_type": "code",
   "execution_count": 21,
   "outputs": [
    {
     "name": "stdout",
     "output_type": "stream",
     "text": [
      "0\n",
      "1\n",
      "10\n",
      "11\n",
      "101\n",
      "1000\n"
     ]
    }
   ],
   "source": [
    "def ter_to_bin(num:int):\n",
    "    return dec_to_bin(ter_to_dec(num))\n",
    "print(ter_to_bin(0))\n",
    "print(ter_to_bin(1))\n",
    "print(ter_to_bin(2))\n",
    "print(ter_to_bin(3))\n",
    "print(ter_to_bin(12))\n",
    "print(ter_to_bin(22))"
   ],
   "metadata": {
    "collapsed": false,
    "pycharm": {
     "name": "#%%\n"
    }
   }
  },
  {
   "cell_type": "markdown",
   "source": [
    "Problem 3: Help Classmates"
   ],
   "metadata": {
    "collapsed": false,
    "pycharm": {
     "name": "#%% md\n"
    }
   }
  },
  {
   "cell_type": "code",
   "execution_count": 24,
   "outputs": [],
   "source": [
    "def help_classmate(inp_st: Stack):\n",
    "    tmp_st = Stack()\n",
    "    res_st = Stack()\n",
    "    while not inp_st.is_empty():\n",
    "        tmp = inp_st.pop()\n",
    "        flag = True\n",
    "        c = 0\n",
    "        while not tmp_st.is_empty():\n",
    "            if tmp > tmp_st.top():\n",
    "                res_st.push(tmp_st.top())\n",
    "                flag = False\n",
    "                for i in range(c):\n",
    "                    tmp_st.push(inp_st.pop())\n",
    "                tmp_st.push(tmp)\n",
    "                break\n",
    "            else:\n",
    "                inp_st.push(tmp_st.pop())\n",
    "                c += 1\n",
    "        if flag:\n",
    "            for i in range(c):\n",
    "                tmp_st.push(inp_st.pop())\n",
    "            tmp_st.push(tmp)\n",
    "            res_st.push(-1)\n",
    "        else:\n",
    "            pass\n",
    "    return copy_reverse(res_st)"
   ],
   "metadata": {
    "collapsed": false,
    "pycharm": {
     "name": "#%%\n"
    }
   }
  },
  {
   "cell_type": "code",
   "execution_count": 25,
   "outputs": [
    {
     "name": "stdout",
     "output_type": "stream",
     "text": [
      "[2, 5, 2, -1, -1]\n",
      "[-1, -1, -1, -1]\n",
      "[2, 2, 1, 1, 5, 1, 0, 0, 0, -1, -1]\n"
     ]
    }
   ],
   "source": [
    "marks = [3, 8, 5, 2, 9]\n",
    "m_st = Stack()\n",
    "for i in marks:\n",
    "    m_st.push(i)\n",
    "print(help_classmate(m_st).__str__())\n",
    "\n",
    "marks = [1, 2, 3, 4]\n",
    "m_st = Stack()\n",
    "for i in marks:\n",
    "    m_st.push(i)\n",
    "print(help_classmate(m_st).__str__())\n",
    "\n",
    "marks = [3 ,4,2,3, 8 , 5 , 1,1,1,0, 9]\n",
    "m_st = Stack()\n",
    "for i in marks:\n",
    "    m_st.push(i)\n",
    "print(help_classmate(m_st).__str__())"
   ],
   "metadata": {
    "collapsed": false,
    "pycharm": {
     "name": "#%%\n"
    }
   }
  },
  {
   "cell_type": "code",
   "execution_count": null,
   "outputs": [],
   "source": [],
   "metadata": {
    "collapsed": false,
    "pycharm": {
     "name": "#%%\n"
    }
   }
  }
 ],
 "metadata": {
  "kernelspec": {
   "display_name": "Python 3",
   "language": "python",
   "name": "python3"
  },
  "language_info": {
   "codemirror_mode": {
    "name": "ipython",
    "version": 2
   },
   "file_extension": ".py",
   "mimetype": "text/x-python",
   "name": "python",
   "nbconvert_exporter": "python",
   "pygments_lexer": "ipython2",
   "version": "2.7.6"
  }
 },
 "nbformat": 4,
 "nbformat_minor": 0
}