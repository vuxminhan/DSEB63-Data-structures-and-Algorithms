{
 "cells": [
  {
   "cell_type": "markdown",
   "source": [
    "LINKED LIST"
   ],
   "metadata": {
    "collapsed": false,
    "pycharm": {
     "name": "#%% md\n"
    }
   }
  },
  {
   "cell_type": "markdown",
   "source": [
    "Singly linked list implementation"
   ],
   "metadata": {
    "collapsed": false,
    "pycharm": {
     "name": "#%% md\n"
    }
   }
  },
  {
   "cell_type": "code",
   "execution_count": 1,
   "metadata": {
    "collapsed": true,
    "pycharm": {
     "name": "#%%\n"
    }
   },
   "outputs": [
    {
     "name": "stdout",
     "output_type": "stream",
     "text": [
      "B C A \n",
      " C A \n"
     ]
    }
   ],
   "source": [
    "class Node:\n",
    "    def __init__(self, val, next_node = None):\n",
    "        self._val = val\n",
    "        self._next = next_node\n",
    "\n",
    "class Linked_list:\n",
    "    def __init__(self):\n",
    "        self._head = None\n",
    "\n",
    "    def insert_head(self, val):\n",
    "        new = Node(val)\n",
    "        new._next = self._head\n",
    "        self._head = new\n",
    "\n",
    "    def insert_middle(self,val, element):\n",
    "        first = self._head\n",
    "        new = Node(val)\n",
    "        while first:\n",
    "            if first._val == element:\n",
    "                new._next = first._next\n",
    "                first._next = new\n",
    "                self.listprint()\n",
    "                return\n",
    "            first = first._next\n",
    "    def delete_head(self):\n",
    "        self._head = self._head._next\n",
    "\n",
    "    def delete_mid(self,element):\n",
    "        first = Node(\"\",self._head._next)\n",
    "        self._head = first\n",
    "        while first:\n",
    "            try:\n",
    "                if first._next._val == element:\n",
    "                    first._next = first._next._next\n",
    "                    return\n",
    "                else:\n",
    "                    first = first._next\n",
    "            except:\n",
    "                return\n",
    "    def listprint(self):\n",
    "        printval = self._head\n",
    "        while printval is not None:\n",
    "            print(printval._val, end = \" \")\n",
    "            printval = printval._next\n",
    "        print()\n",
    "    # def remove(self, val):\n",
    "    #     rmval = Node\n",
    "\n",
    "\n",
    "list1 = Linked_list()\n",
    "\n",
    "e2 = \"A\"\n",
    "e3 = \"B\"\n",
    "e4 = \"C\"\n",
    "# Link first Node to second node\n",
    "list1.insert_head(e2)\n",
    "list1.insert_head(e3)\n",
    "list1.insert_middle( e4, \"B\")\n",
    "# Link second Node to third node\n",
    "# e2._next = e3\n",
    "# list1.delete_head()\n",
    "list1.delete_mid(\"B\")\n",
    "list1.listprint()\n"
   ]
  },
  {
   "cell_type": "markdown",
   "source": [
    "Doube link list can traverse both ways"
   ],
   "metadata": {
    "collapsed": false,
    "pycharm": {
     "name": "#%% md\n"
    }
   }
  },
  {
   "cell_type": "code",
   "execution_count": null,
   "outputs": [],
   "source": [],
   "metadata": {
    "collapsed": false,
    "pycharm": {
     "name": "#%%\n"
    }
   }
  }
 ],
 "metadata": {
  "kernelspec": {
   "display_name": "Python 3",
   "language": "python",
   "name": "python3"
  },
  "language_info": {
   "codemirror_mode": {
    "name": "ipython",
    "version": 2
   },
   "file_extension": ".py",
   "mimetype": "text/x-python",
   "name": "python",
   "nbconvert_exporter": "python",
   "pygments_lexer": "ipython2",
   "version": "2.7.6"
  }
 },
 "nbformat": 4,
 "nbformat_minor": 0
}