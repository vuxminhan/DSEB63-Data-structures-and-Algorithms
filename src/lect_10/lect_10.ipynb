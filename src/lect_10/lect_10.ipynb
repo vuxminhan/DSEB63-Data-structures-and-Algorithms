{
 "cells": [
  {
   "cell_type": "markdown",
   "source": [
    "PRIORITY QUEUE"
   ],
   "metadata": {
    "collapsed": false,
    "pycharm": {
     "name": "#%% md\n"
    }
   }
  },
  {
   "cell_type": "markdown",
   "source": [
    "- Queue vs cơ chế đánh giá ra trc theo mức độ ưu tiên"
   ],
   "metadata": {
    "collapsed": false,
    "pycharm": {
     "name": "#%% md\n"
    }
   }
  },
  {
   "cell_type": "markdown",
   "source": [
    "- MinHeaps: binary tree with 2 conditions\n",
    "    - key (parent) < key (child)\n",
    "    - complete binary tree chỉ tầng cuối dc thiếu và điền từ trái qua"
   ],
   "metadata": {
    "collapsed": false,
    "pycharm": {
     "name": "#%% md\n"
    }
   }
  },
  {
   "cell_type": "markdown",
   "source": [
    " - Add item vào heap\n",
    " - Remove item"
   ],
   "metadata": {
    "collapsed": false,
    "pycharm": {
     "name": "#%% md\n"
    }
   }
  },
  {
   "cell_type": "code",
   "execution_count": null,
   "outputs": [],
   "source": [
    "class Node:\n",
    "    def __init__(self, tup: tuple):\n",
    "        self.key = tup[0]\n",
    "        self.val = tup[1]\n",
    "\n",
    "    def __repr__(self):\n",
    "        return f\"{self.key} : {self.val}\"\n",
    "\n",
    "\n",
    "class Heap:\n",
    "    def __init__(self):\n",
    "        self.data = []\n",
    "\n",
    "    def add(self, node: Node):\n",
    "        c = len(self.data)\n",
    "        self.data.append(node)\n",
    "        p = (c - 1) // 2\n",
    "\n",
    "        while (node.key < self.data[p].key) and (p >= 0):\n",
    "            self.data[c], self.data[p] = self.data[p], self.data[c]\n",
    "            c = p\n",
    "            p = (c - 1) // 2\n",
    "\n",
    "    def delete(self, node: Node):\n",
    "\n",
    "\n",
    "\n",
    "mh = Heap()\n",
    "nodes = [(4, \"c\"), (5, \"a\"), (6, \"d\"), (7, \"f\"), (8, \"g\")]\n",
    "\n",
    "for i in nodes:\n",
    "    mh.add(Node(i))\n",
    "print(mh)\n",
    "\n",
    "\n"
   ],
   "metadata": {
    "collapsed": false,
    "pycharm": {
     "name": "#%%\n"
    }
   }
  }
 ],
 "metadata": {
  "kernelspec": {
   "display_name": "Python 3",
   "language": "python",
   "name": "python3"
  },
  "language_info": {
   "codemirror_mode": {
    "name": "ipython",
    "version": 2
   },
   "file_extension": ".py",
   "mimetype": "text/x-python",
   "name": "python",
   "nbconvert_exporter": "python",
   "pygments_lexer": "ipython2",
   "version": "2.7.6"
  }
 },
 "nbformat": 4,
 "nbformat_minor": 0
}