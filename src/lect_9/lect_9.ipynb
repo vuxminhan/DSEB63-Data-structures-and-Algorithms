{
 "cells": [
  {
   "cell_type": "markdown",
   "source": [
    "  Tree traversal"
   ],
   "metadata": {
    "collapsed": false,
    "pycharm": {
     "name": "#%% md\n"
    }
   }
  },
  {
   "cell_type": "markdown",
   "source": [
    "Pre-order\n",
    "Post-order\n",
    "In-order\n",
    "How to build binary search tree"
   ],
   "metadata": {
    "collapsed": false,
    "pycharm": {
     "name": "#%% md\n"
    }
   }
  },
  {
   "cell_type": "code",
   "execution_count": null,
   "outputs": [],
   "source": [
    "def bfs(root):\n",
    "    if root:\n",
    "        q = [root]\n",
    "    while len(q) > 0:\n",
    "        cur = q.pop(0)\n",
    "        print(cur)\n",
    "        if cur.left:\n",
    "            q.append(cur.left)\n",
    "        if cur.right:\n",
    "            q.append(cur.right)nnn"
   ],
   "metadata": {
    "collapsed": false,
    "pycharm": {
     "name": "#%%\n"
    }
   }
  }
 ],
 "metadata": {
  "kernelspec": {
   "display_name": "Python 3",
   "language": "python",
   "name": "python3"
  },
  "language_info": {
   "codemirror_mode": {
    "name": "ipython",
    "version": 2
   },
   "file_extension": ".py",
   "mimetype": "text/x-python",
   "name": "python",
   "nbconvert_exporter": "python",
   "pygments_lexer": "ipython2",
   "version": "2.7.6"
  }
 },
 "nbformat": 4,
 "nbformat_minor": 0
}