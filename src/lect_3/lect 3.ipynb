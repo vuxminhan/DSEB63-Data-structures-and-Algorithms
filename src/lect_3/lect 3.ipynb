{
 "cells": [
  {
   "cell_type": "markdown",
   "source": [
    "RECURSION"
   ],
   "metadata": {
    "collapsed": false,
    "pycharm": {
     "name": "#%% md\n"
    }
   }
  },
  {
   "cell_type": "code",
   "execution_count": null,
   "outputs": [],
   "source": [
    "def bin_search (arr = [], high = 0, low = 0, mid = 0, num = 0):\n",
    "    mid = int((high - low)/2)\n",
    "    if high == low:\n",
    "        return -1\n",
    "    if num > arr[mid]:\n",
    "        low = mid+1\n",
    "        return bin_search(arr, high, low, mid, num)\n",
    "    if num < arr[mid]:\n",
    "        high = mid-1\n",
    "        return bin_search(arr, high, low, mid, num)\n",
    "    if num == arr[mid]:\n",
    "        return mid\n",
    "\n"
   ],
   "metadata": {
    "collapsed": false,
    "pycharm": {
     "name": "#%%\n",
     "is_executing": true
    }
   }
  },
  {
   "cell_type": "code",
   "execution_count": null,
   "outputs": [],
   "source": [],
   "metadata": {
    "collapsed": false,
    "pycharm": {
     "name": "#%%\n"
    }
   }
  }
 ],
 "metadata": {
  "kernelspec": {
   "display_name": "Python 3",
   "language": "python",
   "name": "python3"
  },
  "language_info": {
   "codemirror_mode": {
    "name": "ipython",
    "version": 2
   },
   "file_extension": ".py",
   "mimetype": "text/x-python",
   "name": "python",
   "nbconvert_exporter": "python",
   "pygments_lexer": "ipython2",
   "version": "2.7.6"
  }
 },
 "nbformat": 4,
 "nbformat_minor": 0
}