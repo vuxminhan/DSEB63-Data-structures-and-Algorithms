{
 "cells": [
  {
   "cell_type": "markdown",
   "source": [
    "QUEUE"
   ],
   "metadata": {
    "collapsed": false,
    "pycharm": {
     "name": "#%% md\n"
    }
   }
  },
  {
   "cell_type": "markdown",
   "source": [
    "Implement a queue"
   ],
   "metadata": {
    "collapsed": false,
    "pycharm": {
     "name": "#%% md\n"
    }
   }
  },
  {
   "cell_type": "code",
   "execution_count": 5,
   "outputs": [],
   "source": [
    "class Queue:\n",
    "    def __init__(self):\n",
    "        self._data = []\n",
    "        self._len = 0\n",
    "\n",
    "    def __len__(self):\n",
    "        return self._len\n",
    "\n",
    "    def __repr__(self):\n",
    "        return f\"{self._data}\"\n",
    "\n",
    "    def is_empty(self):\n",
    "        if len(self) == 0:\n",
    "            return True\n",
    "        return False\n",
    "\n",
    "    def enqueue(self, num):\n",
    "        self._data.append(num)\n",
    "        self._len += 1\n",
    "\n",
    "    def dequeue(self):\n",
    "        if self.is_empty():\n",
    "            raise Exception(\"Empty stack\")\n",
    "        else:\n",
    "            return self._data.pop(0)"
   ],
   "metadata": {
    "collapsed": false,
    "pycharm": {
     "name": "#%%\n"
    }
   }
  },
  {
   "cell_type": "code",
   "execution_count": 6,
   "outputs": [
    {
     "name": "stdout",
     "output_type": "stream",
     "text": [
      "[1, 24, 5, 67, 4]\n",
      "1\n",
      "[24, 5, 67, 4]\n"
     ]
    }
   ],
   "source": [
    "queue = Queue()\n",
    "arr = [1, 24, 5, 67, 4]\n",
    "for i in arr:\n",
    "    queue.enqueue(i)\n",
    "print(queue)\n",
    "for i in range(len(queue)):\n",
    "    # queue.dequeue()\n",
    "    print(queue.dequeue())\n",
    "    break\n",
    "print(queue)"
   ],
   "metadata": {
    "collapsed": false,
    "pycharm": {
     "name": "#%%\n"
    }
   }
  },
  {
   "cell_type": "markdown",
   "source": [
    "Resizing for a queue: Circular array"
   ],
   "metadata": {
    "collapsed": false,
    "pycharm": {
     "name": "#%% md\n"
    }
   }
  },
  {
   "cell_type": "markdown",
   "source": [
    "Sử dụng queue để tính trung bình k phần tử gần nhất trong dữ liệu"
   ],
   "metadata": {
    "collapsed": false,
    "pycharm": {
     "name": "#%% md\n"
    }
   }
  },
  {
   "cell_type": "code",
   "execution_count": 7,
   "outputs": [],
   "source": [
    "class Stream:\n",
    "    def __init__(self, k):\n",
    "        self._data = []\n",
    "        self.s = 0\n",
    "        self.k = k\n",
    "\n",
    "    def forward(self, e):\n",
    "\n",
    "        if len(self._data) < self.k:\n",
    "            self._data.append(e)\n",
    "            self.s += e\n",
    "        else:\n",
    "            self._data.append(e)\n",
    "            self.s += e\n",
    "            self.s -= self._data.pop(0)\n",
    "        return float(self.s) / float(len(self._data))\n"
   ],
   "metadata": {
    "collapsed": false,
    "pycharm": {
     "name": "#%%\n"
    }
   }
  },
  {
   "cell_type": "code",
   "execution_count": 8,
   "outputs": [
    {
     "name": "stdout",
     "output_type": "stream",
     "text": [
      "3.0\n",
      "2.5\n",
      "2.0\n",
      "2.6666666666666665\n",
      "4.333333333333333\n",
      "5.0\n"
     ]
    }
   ],
   "source": [
    "s = Stream(3)\n",
    "print(s.forward(3))\n",
    "print(s.forward(2))\n",
    "print(s.forward(1))\n",
    "print(s.forward(5))\n",
    "print(s.forward(7))\n",
    "print(s.forward(3))"
   ],
   "metadata": {
    "collapsed": false,
    "pycharm": {
     "name": "#%%\n"
    }
   }
  }
 ],
 "metadata": {
  "kernelspec": {
   "display_name": "Python 3",
   "language": "python",
   "name": "python3"
  },
  "language_info": {
   "codemirror_mode": {
    "name": "ipython",
    "version": 2
   },
   "file_extension": ".py",
   "mimetype": "text/x-python",
   "name": "python",
   "nbconvert_exporter": "python",
   "pygments_lexer": "ipython2",
   "version": "2.7.6"
  }
 },
 "nbformat": 4,
 "nbformat_minor": 0
}